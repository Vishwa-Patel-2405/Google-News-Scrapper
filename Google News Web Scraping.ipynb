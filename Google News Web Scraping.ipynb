{
 "cells": [
  {
   "cell_type": "code",
   "execution_count": 15,
   "id": "568af543",
   "metadata": {},
   "outputs": [],
   "source": [
    "from gnewsclient import gnewsclient"
   ]
  },
  {
   "cell_type": "code",
   "execution_count": 16,
   "id": "outer-setup",
   "metadata": {},
   "outputs": [],
   "source": [
    "client = gnewsclient.NewsClient()"
   ]
  },
  {
   "cell_type": "code",
   "execution_count": 17,
   "id": "retained-saturday",
   "metadata": {},
   "outputs": [
    {
     "data": {
      "text/plain": [
       "[{'title': 'Florida Rep. Wasserman Schultz nearly struck in Pride parade crash that kills at least 1: reports - Fox News',\n",
       "  'link': 'https://news.google.com/__i/rss/rd/articles/CBMiemh0dHBzOi8vd3d3LmZveG5ld3MuY29tL3VzL2Zsb3JpZGEtcmVwLXdhc3Nlcm1hbi1zY2h1bHR6LW5lYXJseS1zdHJ1Y2staW4tcHJpZGUtcGFyYWRlLWNyYXNoLXRoYXQta2lsbHMtYXQtbGVhc3QtMS1yZXBvcnRz0gF-aHR0cHM6Ly93d3cuZm94bmV3cy5jb20vdXMvZmxvcmlkYS1yZXAtd2Fzc2VybWFuLXNjaHVsdHotbmVhcmx5LXN0cnVjay1pbi1wcmlkZS1wYXJhZGUtY3Jhc2gtdGhhdC1raWxscy1hdC1sZWFzdC0xLXJlcG9ydHMuYW1w?oc=5',\n",
       "  'media': None},\n",
       " {'title': \"Hardline judge wins Iran's presidency amid widespread voter apathy - New York Post\",\n",
       "  'link': 'https://news.google.com/__i/rss/rd/articles/CBMiYGh0dHBzOi8vbnlwb3N0LmNvbS8yMDIxLzA2LzE5L2hhcmRsaW5lLWp1ZGdlLXdpbnMtaXJhbnMtcHJlc2lkZW5jeS1hbWlkLXdpZGVzcHJlYWQtdm90ZXItYXBhdGh5L9IBZGh0dHBzOi8vbnlwb3N0LmNvbS8yMDIxLzA2LzE5L2hhcmRsaW5lLWp1ZGdlLXdpbnMtaXJhbnMtcHJlc2lkZW5jeS1hbWlkLXdpZGVzcHJlYWQtdm90ZXItYXBhdGh5L2FtcC8?oc=5',\n",
       "  'media': None},\n",
       " {'title': 'As Brazil Tops 500000 COVID-19 Deaths, Protesters Blame President - NPR',\n",
       "  'link': 'https://news.google.com/__i/rss/rd/articles/CBMia2h0dHBzOi8vd3d3Lm5wci5vcmcvMjAyMS8wNi8xOS8xMDA4NDM0Nzk5L2FzLWJyYXppbC10b3BzLTUwMC0wMDAtY292aWQtMTktZGVhdGhzLXByb3Rlc3RlcnMtYmxhbWUtcHJlc2lkZW500gEA?oc=5',\n",
       "  'media': None},\n",
       " {'title': \"UPDATE: 1 Dead, 5 Wounded in Saturday Evening Shooting at Oakland's Lake Merritt - CBS San Francisco\",\n",
       "  'link': 'https://news.google.com/__i/rss/rd/articles/CBMiUWh0dHBzOi8vc2FuZnJhbmNpc2NvLmNic2xvY2FsLmNvbS8yMDIxLzA2LzE5L3Nob290aW5nLW9ha2xhbmQtbGFrZS1tZXJyaXR0LWZhdGFsL9IBAA?oc=5',\n",
       "  'media': None},\n",
       " {'title': 'Sen. Ron Johnson was heckled during Juneteenth speech in Wisconsin - Business Insider',\n",
       "  'link': 'https://news.google.com/__i/rss/rd/articles/CBMiaGh0dHBzOi8vd3d3LmJ1c2luZXNzaW5zaWRlci5jb20vc2VuYXRvci1yb24tam9obnNvbi1oZWNrbGVkLWR1cmluZy1qdW5ldGVlbnRoLXNwZWVjaC1pbi13aXNjb25zaW4tMjAyMS020gFsaHR0cHM6Ly93d3cuYnVzaW5lc3NpbnNpZGVyLmNvbS9zZW5hdG9yLXJvbi1qb2huc29uLWhlY2tsZWQtZHVyaW5nLWp1bmV0ZWVudGgtc3BlZWNoLWluLXdpc2NvbnNpbi0yMDIxLTY_YW1w?oc=5',\n",
       "  'media': None},\n",
       " {'title': \"Joe and Jill Biden announce death of 'beloved' dog Champ - BBC News\",\n",
       "  'link': 'https://news.google.com/__i/rss/rd/articles/CBMiMWh0dHBzOi8vd3d3LmJiYy5jb20vbmV3cy93b3JsZC11cy1jYW5hZGEtNTc1NDEwNDTSATVodHRwczovL3d3dy5iYmMuY29tL25ld3Mvd29ybGQtdXMtY2FuYWRhLTU3NTQxMDQ0LmFtcA?oc=5',\n",
       "  'media': None},\n",
       " {'title': 'Boulder plans assault weapons ban after Colorado allows local gun laws - Business Insider',\n",
       "  'link': 'https://news.google.com/__i/rss/rd/articles/CBMiZ2h0dHBzOi8vd3d3LmJ1c2luZXNzaW5zaWRlci5jb20vYm91bGRlci1wbGFucy1hc3NhdWx0LXdlYXBvbnMtYmFuLWNvbG9yYWRvLWFsbG93cy1sb2NhbC1ndW4tbGF3cy0yMDIxLTbSAWtodHRwczovL3d3dy5idXNpbmVzc2luc2lkZXIuY29tL2JvdWxkZXItcGxhbnMtYXNzYXVsdC13ZWFwb25zLWJhbi1jb2xvcmFkby1hbGxvd3MtbG9jYWwtZ3VuLWxhd3MtMjAyMS02P2FtcA?oc=5',\n",
       "  'media': None},\n",
       " {'title': 'Flint woman shot by police during Juneteenth celebration dies - MLive.com',\n",
       "  'link': 'https://news.google.com/__i/rss/rd/articles/CBMia2h0dHBzOi8vd3d3Lm1saXZlLmNvbS9uZXdzL2ZsaW50LzIwMjEvMDYvZmxpbnQtd29tYW4tc2hvdC1ieS1wb2xpY2UtZHVyaW5nLWp1bmV0ZWVudGgtY2VsZWJyYXRpb24tZGllcy5odG1s0gF6aHR0cHM6Ly93d3cubWxpdmUuY29tL25ld3MvZmxpbnQvMjAyMS8wNi9mbGludC13b21hbi1zaG90LWJ5LXBvbGljZS1kdXJpbmctanVuZXRlZW50aC1jZWxlYnJhdGlvbi1kaWVzLmh0bWw_b3V0cHV0VHlwZT1hbXA?oc=5',\n",
       "  'media': None},\n",
       " {'title': 'How Americans Are Celebrating Juneteenth This Year - NPR',\n",
       "  'link': 'https://news.google.com/__i/rss/rd/articles/CBMic2h0dHBzOi8vd3d3Lm5wci5vcmcvMjAyMS8wNi8xOS8xMDA4MzY4ODk5L3Bob3Rvcy1hbWVyaWNhbnMtY2VsZWJyYXRlLWp1bmV0ZWVudGgtYWZ0ZXItaXQtYmVjb21lcy1hLW5hdGlvbmFsLWhvbGlkYXnSAQA?oc=5',\n",
       "  'media': None},\n",
       " {'title': \"Tropical system brings soggy conditions, flood threat across Upstate for Father's Day - WYFF4 Greenville\",\n",
       "  'link': 'https://news.google.com/__i/rss/rd/articles/CBMif2h0dHBzOi8vd3d3Lnd5ZmY0LmNvbS9hcnRpY2xlL3Ryb3BpY2FsLXN5c3RlbS1icmluZ3Mtc29nZ3ktcmFpbi1jb25kaXRpb25zLWZsb29kLXRocmVhdC1hY3Jvc3MtdXBzdGF0ZS1mb3ItZmF0aGVycy1kYXkvMzY3NzYwNzfSAYMBaHR0cHM6Ly93d3cud3lmZjQuY29tL2FtcC9hcnRpY2xlL3Ryb3BpY2FsLXN5c3RlbS1icmluZ3Mtc29nZ3ktcmFpbi1jb25kaXRpb25zLWZsb29kLXRocmVhdC1hY3Jvc3MtdXBzdGF0ZS1mb3ItZmF0aGVycy1kYXkvMzY3NzYwNzc?oc=5',\n",
       "  'media': None}]"
      ]
     },
     "execution_count": 17,
     "metadata": {},
     "output_type": "execute_result"
    }
   ],
   "source": [
    "client.get_news()"
   ]
  },
  {
   "cell_type": "code",
   "execution_count": 18,
   "id": "curious-hazard",
   "metadata": {},
   "outputs": [],
   "source": [
    "from gnewsclient import gnewsclient"
   ]
  },
  {
   "cell_type": "code",
   "execution_count": 19,
   "id": "thick-milton",
   "metadata": {},
   "outputs": [
    {
     "name": "stdout",
     "output_type": "stream",
     "text": [
      "Enter language :english\n",
      "Enter country location : canada\n",
      "Enter news topic : covid\n",
      "\n",
      "\n",
      "Title :  Juneteenth marked across U.S. for 1st time as a federal holiday - CBC.ca\n",
      "Link :  https://news.google.com/__i/rss/rd/articles/CBMiV2h0dHBzOi8vd3d3LmNiYy5jYS9uZXdzL3dvcmxkL3VzLWp1bmV0ZWVudGgtY2VsZWJyYXRpb25zLTIwMjEtZmVkZXJhbC1ob2xpZGF5LTEuNjA3MjcxOdIBIGh0dHBzOi8vd3d3LmNiYy5jYS9hbXAvMS42MDcyNzE5?oc=5\n",
      "\n",
      "Title :  World reacts to election of Iran’s new hardline President Raisi - Al Jazeera English\n",
      "Link :  https://news.google.com/__i/rss/rd/articles/CBMiZ2h0dHBzOi8vd3d3LmFsamF6ZWVyYS5jb20vbmV3cy8yMDIxLzYvMTkvd29ybGQtcmVhY3RzLXRvLWVsZWN0aW9uLW9mLWlyYW5zLW5ldy1oYXJkbGluZS1wcmVzaWRlbnQtcmFpc2nSAWtodHRwczovL3d3dy5hbGphemVlcmEuY29tL2FtcC9uZXdzLzIwMjEvNi8xOS93b3JsZC1yZWFjdHMtdG8tZWxlY3Rpb24tb2YtaXJhbnMtbmV3LWhhcmRsaW5lLXByZXNpZGVudC1yYWlzaQ?oc=5\n",
      "\n",
      "\n",
      "TOKENS :\n",
      "\n",
      "LENGTH OF TOKENS :  13\n",
      "\n",
      " ['Juneteenth', 'marked', 'across', 'U.S.', 'for', '1st', 'time', 'as', 'a', 'federal', 'holiday', '-', 'CBC.ca']\n",
      "\n",
      "LOWER STRING : \n",
      " juneteenth marked across u.s. for 1st time as a federal holiday - cbc.ca\n",
      "\n",
      "STOP WORD REMOVAL : \n",
      " ['Juneteenth', 'marked', 'across', 'U.S.', '1st', 'time', 'federal', 'holiday', '-', 'CBC.ca']\n",
      "\n",
      "STEMMER : \n",
      "juneteenth mark across u.s. for 1st time as a feder holiday - cbc.ca \n",
      "\n",
      " POS : \n",
      " [('Juneteenth', 'NNP'), ('marked', 'VBD'), ('across', 'IN'), ('U.S.', 'NNP'), ('for', 'IN'), ('1st', 'CD'), ('time', 'NN'), ('as', 'IN'), ('a', 'DT'), ('federal', 'JJ'), ('holiday', 'NN'), ('-', ':'), ('CBC.ca', 'NN')]\n",
      "\n",
      " LAMETTIZATION : \n",
      "Juneteenth marked across U.S. for 1st time a a federal holiday CBC.ca \n",
      "LENGTH OF TOKENS :  16\n",
      "\n",
      " ['World', 'reacts', 'to', 'election', 'of', 'Iran', '’', 's', 'new', 'hardline', 'President', 'Raisi', '-', 'Al', 'Jazeera', 'English']\n",
      "\n",
      "LOWER STRING : \n",
      " world reacts to election of iran’s new hardline president raisi - al jazeera english\n",
      "\n",
      "STOP WORD REMOVAL : \n",
      " ['World', 'reacts', 'election', 'Iran', '’', 'new', 'hardline', 'President', 'Raisi', '-', 'Al', 'Jazeera', 'English']\n",
      "\n",
      "STEMMER : \n",
      "world react to elect of iran ’ s new hardlin presid raisi - al jazeera english \n",
      "\n",
      " POS : \n",
      " [('World', 'NNP'), ('reacts', 'VBZ'), ('to', 'TO'), ('election', 'NN'), ('of', 'IN'), ('Iran', 'NNP'), ('’', 'NNP'), ('s', 'VBD'), ('new', 'JJ'), ('hardline', 'NN'), ('President', 'NNP'), ('Raisi', 'NNP'), ('-', ':'), ('Al', 'NNP'), ('Jazeera', 'NNP'), ('English', 'NNP')]\n",
      "\n",
      " LAMETTIZATION : \n",
      "World reacts to election of Iran ’ s new hardline President Raisi Al Jazeera English "
     ]
    }
   ],
   "source": [
    "import json\n",
    "import nltk\n",
    "from nltk.tokenize import word_tokenize\n",
    "from nltk.corpus import stopwords\n",
    "from nltk.stem import PorterStemmer\n",
    "from nltk.stem import WordNetLemmatizer \n",
    "                     \n",
    "def NewsFetch(lang, location, topic):\n",
    "    client = gnewsclient.NewsClient(language = lang, location = location, topic = topic,max_results = 2)\n",
    "    \n",
    "    stop_words = set(stopwords.words(\"{}\".format(lang)))\n",
    "    ps = PorterStemmer()\n",
    "    lemmatizer = WordNetLemmatizer()\n",
    "    \n",
    "    news_lst = client.get_news()\n",
    "    lst =[]\n",
    "    \n",
    "    for i in news_lst:\n",
    "        print(\"\\n\\nTitle : \",i['title'])\n",
    "        print(\"Link : \",i['link'],end=\"\")\n",
    "        dict2 = i\n",
    "        dict2.pop(\"media\")\n",
    "        lst.append(dict2)\n",
    "    \n",
    "\n",
    "    print(\"\\n\\n\\nTOKENS :\")\n",
    "    for j in lst:\n",
    "        statement = j['title']\n",
    "        tokens = word_tokenize(statement)\n",
    "        print(\"\\nLENGTH OF TOKENS : \",len(tokens),end=\"\\n\")\n",
    "        print(\"\\n\",tokens,end=\"\\n\\n\")\n",
    "        lower_str = statement.lower()\n",
    "        print(\"LOWER STRING : \\n\",lower_str)\n",
    "        filtered_sentence = [s for s in tokens if not s in stop_words]\n",
    "        print(\"\\nSTOP WORD REMOVAL : \\n\",filtered_sentence,end=\"\\n\")\n",
    "        \n",
    "        print(\"\\nSTEMMER : \")\n",
    "        for word in tokens:\n",
    "            print(ps.stem(word),end=\" \")\n",
    "        \n",
    "        \n",
    "        lematizer_lst = nltk.pos_tag(tokens)\n",
    "        print(\"\\n\\n POS : \\n\",lematizer_lst)\n",
    "        \n",
    "        POS_lst= ['VBN','VBP','VBZ','NNP','NN','CC','CD','DT','EX','FW','IN','JJ','JJR','JJS','LS','MD','NN','NNS','NNPS','PDT','POS','PRP','PRP$','RB','RBR','RBS','RP','TO','UH','VB','VBD','VBG','WDT','WP','WP$','WRB']\n",
    "        print(\"\\n LAMETTIZATION : \")\n",
    "        for item in lematizer_lst:\n",
    "            if item[1] in POS_lst:\n",
    "                print(lemmatizer.lemmatize(item[0]),end = \" \")\n",
    "            else:\n",
    "                pass\n",
    "        \n",
    "    \n",
    "    json_data = json.dumps(lst)\n",
    "    \n",
    "    with open(\"GoogleNewsScrapper.json\",\"w+\") as OP:\n",
    "        OP.write(json_data)\n",
    "\n",
    "        \n",
    "lang = input(\"Enter language :\")\n",
    "location = input(\"Enter country location : \")\n",
    "topic = input(\"Enter news topic : \")\n",
    "\n",
    "NewsFetch(lang,location,topic)"
   ]
  },
  {
   "cell_type": "code",
   "execution_count": 20,
   "id": "floating-parker",
   "metadata": {},
   "outputs": [
    {
     "name": "stderr",
     "output_type": "stream",
     "text": [
      "[nltk_data] Downloading package punkt to\n",
      "[nltk_data]     C:\\Users\\VISHWA\\AppData\\Roaming\\nltk_data...\n",
      "[nltk_data]   Package punkt is already up-to-date!\n",
      "[nltk_data] Downloading package stopwords to\n",
      "[nltk_data]     C:\\Users\\VISHWA\\AppData\\Roaming\\nltk_data...\n",
      "[nltk_data]   Package stopwords is already up-to-date!\n",
      "[nltk_data] Downloading package averaged_perceptron_tagger to\n",
      "[nltk_data]     C:\\Users\\VISHWA\\AppData\\Roaming\\nltk_data...\n",
      "[nltk_data]   Package averaged_perceptron_tagger is already up-to-\n",
      "[nltk_data]       date!\n",
      "[nltk_data] Downloading package wordnet to\n",
      "[nltk_data]     C:\\Users\\VISHWA\\AppData\\Roaming\\nltk_data...\n",
      "[nltk_data]   Package wordnet is already up-to-date!\n"
     ]
    },
    {
     "data": {
      "text/plain": [
       "True"
      ]
     },
     "execution_count": 20,
     "metadata": {},
     "output_type": "execute_result"
    }
   ],
   "source": [
    "import nltk\n",
    "nltk.download('punkt')\n",
    "nltk.download('stopwords')\n",
    "nltk.download('averaged_perceptron_tagger')\n",
    "nltk.download('wordnet')"
   ]
  },
  {
   "cell_type": "code",
   "execution_count": 21,
   "id": "italic-sessions",
   "metadata": {},
   "outputs": [],
   "source": [
    "import pandas as pd"
   ]
  },
  {
   "cell_type": "code",
   "execution_count": 22,
   "id": "parliamentary-tuner",
   "metadata": {},
   "outputs": [],
   "source": [
    "df = pd.read_json ('GoogleNewsScrapper.json')\n",
    "df.to_csv ('GoogleNewsScrapper.csv')"
   ]
  },
  {
   "cell_type": "code",
   "execution_count": 23,
   "id": "registered-lighter",
   "metadata": {},
   "outputs": [
    {
     "data": {
      "text/html": [
       "<div>\n",
       "<style scoped>\n",
       "    .dataframe tbody tr th:only-of-type {\n",
       "        vertical-align: middle;\n",
       "    }\n",
       "\n",
       "    .dataframe tbody tr th {\n",
       "        vertical-align: top;\n",
       "    }\n",
       "\n",
       "    .dataframe thead th {\n",
       "        text-align: right;\n",
       "    }\n",
       "</style>\n",
       "<table border=\"1\" class=\"dataframe\">\n",
       "  <thead>\n",
       "    <tr style=\"text-align: right;\">\n",
       "      <th></th>\n",
       "      <th>title</th>\n",
       "      <th>link</th>\n",
       "    </tr>\n",
       "  </thead>\n",
       "  <tbody>\n",
       "    <tr>\n",
       "      <th>0</th>\n",
       "      <td>Juneteenth marked across U.S. for 1st time as ...</td>\n",
       "      <td>https://news.google.com/__i/rss/rd/articles/CB...</td>\n",
       "    </tr>\n",
       "    <tr>\n",
       "      <th>1</th>\n",
       "      <td>World reacts to election of Iran’s new hardlin...</td>\n",
       "      <td>https://news.google.com/__i/rss/rd/articles/CB...</td>\n",
       "    </tr>\n",
       "  </tbody>\n",
       "</table>\n",
       "</div>"
      ],
      "text/plain": [
       "                                               title  \\\n",
       "0  Juneteenth marked across U.S. for 1st time as ...   \n",
       "1  World reacts to election of Iran’s new hardlin...   \n",
       "\n",
       "                                                link  \n",
       "0  https://news.google.com/__i/rss/rd/articles/CB...  \n",
       "1  https://news.google.com/__i/rss/rd/articles/CB...  "
      ]
     },
     "execution_count": 23,
     "metadata": {},
     "output_type": "execute_result"
    }
   ],
   "source": [
    "df"
   ]
  },
  {
   "cell_type": "code",
   "execution_count": null,
   "id": "settled-strength",
   "metadata": {},
   "outputs": [],
   "source": []
  }
 ],
 "metadata": {
  "kernelspec": {
   "display_name": "Python 3",
   "language": "python",
   "name": "python3"
  },
  "language_info": {
   "codemirror_mode": {
    "name": "ipython",
    "version": 3
   },
   "file_extension": ".py",
   "mimetype": "text/x-python",
   "name": "python",
   "nbconvert_exporter": "python",
   "pygments_lexer": "ipython3",
   "version": "3.8.6"
  }
 },
 "nbformat": 4,
 "nbformat_minor": 5
}
