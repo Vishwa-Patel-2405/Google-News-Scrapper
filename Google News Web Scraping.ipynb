{
 "cells": [
  {
   "cell_type": "code",
   "execution_count": 1,
   "id": "568af543",
   "metadata": {},
   "outputs": [
    {
     "name": "stderr",
     "output_type": "stream",
     "text": [
      "C:\\Users\\VISHWA\\AppData\\Roaming\\Python\\Python38\\site-packages\\fuzzywuzzy\\fuzz.py:11: UserWarning: Using slow pure-python SequenceMatcher. Install python-Levenshtein to remove this warning\n",
      "  warnings.warn('Using slow pure-python SequenceMatcher. Install python-Levenshtein to remove this warning')\n"
     ]
    }
   ],
   "source": [
    "from gnewsclient import gnewsclient"
   ]
  },
  {
   "cell_type": "code",
   "execution_count": 2,
   "id": "outer-setup",
   "metadata": {},
   "outputs": [],
   "source": [
    "client = gnewsclient.NewsClient()"
   ]
  },
  {
   "cell_type": "code",
   "execution_count": 3,
   "id": "retained-saturday",
   "metadata": {},
   "outputs": [
    {
     "data": {
      "text/plain": [
       "[{'title': 'Florida Rep. Wasserman Schultz nearly struck in Pride parade crash that kills at least 1: reports - Fox News',\n",
       "  'link': 'https://news.google.com/__i/rss/rd/articles/CBMiemh0dHBzOi8vd3d3LmZveG5ld3MuY29tL3VzL2Zsb3JpZGEtcmVwLXdhc3Nlcm1hbi1zY2h1bHR6LW5lYXJseS1zdHJ1Y2staW4tcHJpZGUtcGFyYWRlLWNyYXNoLXRoYXQta2lsbHMtYXQtbGVhc3QtMS1yZXBvcnRz0gF-aHR0cHM6Ly93d3cuZm94bmV3cy5jb20vdXMvZmxvcmlkYS1yZXAtd2Fzc2VybWFuLXNjaHVsdHotbmVhcmx5LXN0cnVjay1pbi1wcmlkZS1wYXJhZGUtY3Jhc2gtdGhhdC1raWxscy1hdC1sZWFzdC0xLXJlcG9ydHMuYW1w?oc=5',\n",
       "  'media': None},\n",
       " {'title': 'As Brazil Tops 500000 COVID-19 Deaths, Protesters Blame President - NPR',\n",
       "  'link': 'https://news.google.com/__i/rss/rd/articles/CBMia2h0dHBzOi8vd3d3Lm5wci5vcmcvMjAyMS8wNi8xOS8xMDA4NDM0Nzk5L2FzLWJyYXppbC10b3BzLTUwMC0wMDAtY292aWQtMTktZGVhdGhzLXByb3Rlc3RlcnMtYmxhbWUtcHJlc2lkZW500gEA?oc=5',\n",
       "  'media': None},\n",
       " {'title': \"Biden's first foreign trip only showcased his own weakness - New York Post\",\n",
       "  'link': 'https://news.google.com/__i/rss/rd/articles/CBMiWGh0dHBzOi8vbnlwb3N0LmNvbS8yMDIxLzA2LzE5L2JpZGVucy1maXJzdC1mb3JlaWduLXRyaXAtb25seS1zaG93Y2FzZWQtaGlzLW93bi13ZWFrbmVzcy_SAVxodHRwczovL255cG9zdC5jb20vMjAyMS8wNi8xOS9iaWRlbnMtZmlyc3QtZm9yZWlnbi10cmlwLW9ubHktc2hvd2Nhc2VkLWhpcy1vd24td2Vha25lc3MvYW1wLw?oc=5',\n",
       "  'media': None},\n",
       " {'title': 'MyPillow CEO Mike Lindell said he lost $7 million on COVID-19 masks - Business Insider',\n",
       "  'link': 'https://news.google.com/__i/rss/rd/articles/CBMiXmh0dHBzOi8vd3d3LmJ1c2luZXNzaW5zaWRlci5jb20vbXlwaWxsb3ctY2VvLW1pa2UtbGluZGVsbC1sb3N0LTctbWlsbGlvbi1jb3ZpZC0xOS1tYXNrcy0yMDIxLTbSAWJodHRwczovL3d3dy5idXNpbmVzc2luc2lkZXIuY29tL215cGlsbG93LWNlby1taWtlLWxpbmRlbGwtbG9zdC03LW1pbGxpb24tY292aWQtMTktbWFza3MtMjAyMS02P2FtcA?oc=5',\n",
       "  'media': None},\n",
       " {'title': \"QAnon Believers Suggest Secret Message Behind Announcement of Biden Dog Champ's Death - Newsweek\",\n",
       "  'link': 'https://news.google.com/__i/rss/rd/articles/CBMibGh0dHBzOi8vd3d3Lm5ld3N3ZWVrLmNvbS9xYW5vbi1iZWxpZXZlcnMtc3VnZ2VzdC1zZWNyZXQtbWVzc2FnZS1iZWhpbmQtYW5ub3VuY2VtZW50LWJpZGVuLWRvZ3MtZGVhdGgtMTYwMjI4MNIBcmh0dHBzOi8vd3d3Lm5ld3N3ZWVrLmNvbS9xYW5vbi1iZWxpZXZlcnMtc3VnZ2VzdC1zZWNyZXQtbWVzc2FnZS1iZWhpbmQtYW5ub3VuY2VtZW50LWJpZGVuLWRvZ3MtZGVhdGgtMTYwMjI4MD9hbXA9MQ?oc=5',\n",
       "  'media': None},\n",
       " {'title': \"UPDATE: 1 Dead, 5 Wounded in Saturday Evening Shooting at Oakland's Lake Merritt - CBS San Francisco\",\n",
       "  'link': 'https://news.google.com/__i/rss/rd/articles/CBMiUWh0dHBzOi8vc2FuZnJhbmNpc2NvLmNic2xvY2FsLmNvbS8yMDIxLzA2LzE5L3Nob290aW5nLW9ha2xhbmQtbGFrZS1tZXJyaXR0LWZhdGFsL9IBAA?oc=5',\n",
       "  'media': None},\n",
       " {'title': 'Colorado governor signs bill allowing cities to set their own gun restrictions into law - CBS News',\n",
       "  'link': 'https://news.google.com/__i/rss/rd/articles/CBMiO2h0dHBzOi8vd3d3LmNic25ld3MuY29tL25ld3MvY29sb3JhZG8tZ3VuLWxhdy1jaXRpZXMtcG9saXMv0gE_aHR0cHM6Ly93d3cuY2JzbmV3cy5jb20vYW1wL25ld3MvY29sb3JhZG8tZ3VuLWxhdy1jaXRpZXMtcG9saXMv?oc=5',\n",
       "  'media': None},\n",
       " {'title': 'Flint woman shot by police during Juneteenth celebration dies - MLive.com',\n",
       "  'link': 'https://news.google.com/__i/rss/rd/articles/CBMia2h0dHBzOi8vd3d3Lm1saXZlLmNvbS9uZXdzL2ZsaW50LzIwMjEvMDYvZmxpbnQtd29tYW4tc2hvdC1ieS1wb2xpY2UtZHVyaW5nLWp1bmV0ZWVudGgtY2VsZWJyYXRpb24tZGllcy5odG1s0gF6aHR0cHM6Ly93d3cubWxpdmUuY29tL25ld3MvZmxpbnQvMjAyMS8wNi9mbGludC13b21hbi1zaG90LWJ5LXBvbGljZS1kdXJpbmctanVuZXRlZW50aC1jZWxlYnJhdGlvbi1kaWVzLmh0bWw_b3V0cHV0VHlwZT1hbXA?oc=5',\n",
       "  'media': None},\n",
       " {'title': 'How Americans Are Celebrating Juneteenth This Year - NPR',\n",
       "  'link': 'https://news.google.com/__i/rss/rd/articles/CBMic2h0dHBzOi8vd3d3Lm5wci5vcmcvMjAyMS8wNi8xOS8xMDA4MzY4ODk5L3Bob3Rvcy1hbWVyaWNhbnMtY2VsZWJyYXRlLWp1bmV0ZWVudGgtYWZ0ZXItaXQtYmVjb21lcy1hLW5hdGlvbmFsLWhvbGlkYXnSAQA?oc=5',\n",
       "  'media': None},\n",
       " {'title': \"Tropical system brings soggy conditions, flood threat across Upstate for Father's Day - WYFF4 Greenville\",\n",
       "  'link': 'https://news.google.com/__i/rss/rd/articles/CBMif2h0dHBzOi8vd3d3Lnd5ZmY0LmNvbS9hcnRpY2xlL3Ryb3BpY2FsLXN5c3RlbS1icmluZ3Mtc29nZ3ktcmFpbi1jb25kaXRpb25zLWZsb29kLXRocmVhdC1hY3Jvc3MtdXBzdGF0ZS1mb3ItZmF0aGVycy1kYXkvMzY3NzYwNzfSAYMBaHR0cHM6Ly93d3cud3lmZjQuY29tL2FtcC9hcnRpY2xlL3Ryb3BpY2FsLXN5c3RlbS1icmluZ3Mtc29nZ3ktcmFpbi1jb25kaXRpb25zLWZsb29kLXRocmVhdC1hY3Jvc3MtdXBzdGF0ZS1mb3ItZmF0aGVycy1kYXkvMzY3NzYwNzc?oc=5',\n",
       "  'media': None}]"
      ]
     },
     "execution_count": 3,
     "metadata": {},
     "output_type": "execute_result"
    }
   ],
   "source": [
    "client.get_news()"
   ]
  },
  {
   "cell_type": "code",
   "execution_count": 4,
   "id": "curious-hazard",
   "metadata": {},
   "outputs": [],
   "source": [
    "from gnewsclient import gnewsclient"
   ]
  },
  {
   "cell_type": "code",
   "execution_count": 14,
   "id": "thick-milton",
   "metadata": {},
   "outputs": [
    {
     "name": "stdout",
     "output_type": "stream",
     "text": [
      "Enter language :english\n",
      "Enter country location : india\n",
      "Enter news topic : covid\n",
      "\n",
      "\n",
      "Title :  Who is Ebrahim Raisi, Iran's next president? - Al Jazeera English\n",
      "Link :  https://news.google.com/__i/rss/rd/articles/CBMiK2h0dHBzOi8vd3d3LnlvdXR1YmUuY29tL3dhdGNoP3Y9SFFLVnduQkJ3M03SAQA?oc=5\n",
      "\n",
      "Title :  World Refugee Day 2021: History, Theme and Facts About Asylum Seekers - News18\n",
      "Link :  https://news.google.com/__i/rss/rd/articles/CBMidmh0dHBzOi8vd3d3Lm5ld3MxOC5jb20vbmV3cy9saWZlc3R5bGUvd29ybGQtcmVmdWdlZS1kYXktMjAyMS1oaXN0b3J5LXRoZW1lLWFuZC1mYWN0cy1hYm91dC1hc3lsdW0tc2Vla2Vycy0zODY5NDg5Lmh0bWzSAXpodHRwczovL3d3dy5uZXdzMTguY29tL2FtcC9uZXdzL2xpZmVzdHlsZS93b3JsZC1yZWZ1Z2VlLWRheS0yMDIxLWhpc3RvcnktdGhlbWUtYW5kLWZhY3RzLWFib3V0LWFzeWx1bS1zZWVrZXJzLTM4Njk0ODkuaHRtbA?oc=5\n",
      "\n",
      "\n",
      "TOKENS :\n",
      "\n",
      "LENGTH OF TOKENS :  14\n",
      "\n",
      " ['Who', 'is', 'Ebrahim', 'Raisi', ',', 'Iran', \"'s\", 'next', 'president', '?', '-', 'Al', 'Jazeera', 'English']\n",
      "\n",
      "LOWER STRING : \n",
      " who is ebrahim raisi, iran's next president? - al jazeera english\n",
      "\n",
      "STOP WORD REMOVAL : \n",
      " ['Who', 'Ebrahim', 'Raisi', ',', 'Iran', \"'s\", 'next', 'president', '?', '-', 'Al', 'Jazeera', 'English']\n",
      "\n",
      "STEMMER : \n",
      "who is ebrahim raisi , iran 's next presid ? - al jazeera english \n",
      "\n",
      " POS : \n",
      " [('Who', 'WP'), ('is', 'VBZ'), ('Ebrahim', 'NNP'), ('Raisi', 'NNP'), (',', ','), ('Iran', 'NNP'), (\"'s\", 'POS'), ('next', 'JJ'), ('president', 'NN'), ('?', '.'), ('-', ':'), ('Al', 'NNP'), ('Jazeera', 'NNP'), ('English', 'NNP')]\n",
      "\n",
      " LAMETTIZATION : \n",
      "Who is Ebrahim Raisi Iran 's next president Al Jazeera English \n",
      "LENGTH OF TOKENS :  15\n",
      "\n",
      " ['World', 'Refugee', 'Day', '2021', ':', 'History', ',', 'Theme', 'and', 'Facts', 'About', 'Asylum', 'Seekers', '-', 'News18']\n",
      "\n",
      "LOWER STRING : \n",
      " world refugee day 2021: history, theme and facts about asylum seekers - news18\n",
      "\n",
      "STOP WORD REMOVAL : \n",
      " ['World', 'Refugee', 'Day', '2021', ':', 'History', ',', 'Theme', 'Facts', 'About', 'Asylum', 'Seekers', '-', 'News18']\n",
      "\n",
      "STEMMER : \n",
      "world refuge day 2021 : histori , theme and fact about asylum seeker - news18 \n",
      "\n",
      " POS : \n",
      " [('World', 'NNP'), ('Refugee', 'NNP'), ('Day', 'NNP'), ('2021', 'CD'), (':', ':'), ('History', 'NN'), (',', ','), ('Theme', 'NNP'), ('and', 'CC'), ('Facts', 'NNS'), ('About', 'IN'), ('Asylum', 'NNP'), ('Seekers', 'NNP'), ('-', ':'), ('News18', 'NN')]\n",
      "\n",
      " LAMETTIZATION : \n",
      "World Refugee Day 2021 History Theme and Facts About Asylum Seekers News18 "
     ]
    }
   ],
   "source": [
    "import json\n",
    "import nltk\n",
    "from nltk.tokenize import word_tokenize\n",
    "from nltk.corpus import stopwords\n",
    "from nltk.stem import PorterStemmer\n",
    "from nltk.stem import WordNetLemmatizer \n",
    "                     \n",
    "def NewsFetch(lang, location, topic):\n",
    "    client = gnewsclient.NewsClient(language = lang, location = location, topic = topic,max_results = 2)\n",
    "    \n",
    "    stop_words = set(stopwords.words(\"{}\".format(lang)))\n",
    "    ps = PorterStemmer()\n",
    "    lemmatizer = WordNetLemmatizer()\n",
    "    \n",
    "    news_lst = client.get_news()\n",
    "    lst =[]\n",
    "    \n",
    "    for i in news_lst:\n",
    "        print(\"\\n\\nTitle : \",i['title'])\n",
    "        print(\"Link : \",i['link'],end=\"\")\n",
    "        dict2 = i\n",
    "        dict2.pop(\"media\")\n",
    "        lst.append(dict2)\n",
    "    \n",
    "\n",
    "    print(\"\\n\\n\\nTOKENS :\")\n",
    "    for j in lst:\n",
    "        statement = j['title']\n",
    "        tokens = word_tokenize(statement)\n",
    "        print(\"\\nLENGTH OF TOKENS : \",len(tokens),end=\"\\n\")\n",
    "        print(\"\\n\",tokens,end=\"\\n\\n\")\n",
    "        lower_str = statement.lower()\n",
    "        print(\"LOWER STRING : \\n\",lower_str)\n",
    "        filtered_sentence = [s for s in tokens if not s in stop_words]\n",
    "        print(\"\\nSTOP WORD REMOVAL : \\n\",filtered_sentence,end=\"\\n\")\n",
    "        \n",
    "        print(\"\\nSTEMMER : \")\n",
    "        for word in tokens:\n",
    "            print(ps.stem(word),end=\" \")\n",
    "        \n",
    "        \n",
    "        lematizer_lst = nltk.pos_tag(tokens)\n",
    "        print(\"\\n\\n POS : \\n\",lematizer_lst)\n",
    "        \n",
    "        POS_lst= ['VBN','VBP','VBZ','NNP','NN','CC','CD','DT','EX','FW','IN','JJ','JJR','JJS','LS','MD','NN','NNS','NNPS','PDT','POS','PRP','PRP$','RB','RBR','RBS','RP','TO','UH','VB','VBD','VBG','WDT','WP','WP$','WRB']\n",
    "        print(\"\\n LAMETTIZATION : \")\n",
    "        for item in lematizer_lst:\n",
    "            if item[1] in POS_lst:\n",
    "                print(lemmatizer.lemmatize(item[0]),end = \" \")\n",
    "            else:\n",
    "                pass\n",
    "        \n",
    "    \n",
    "    json_data = json.dumps(lst)\n",
    "    \n",
    "    with open(\"GoogleNewsScrapper.json\",\"w+\") as OP:\n",
    "        OP.write(json_data)\n",
    "\n",
    "        \n",
    "lang = input(\"Enter language :\")\n",
    "location = input(\"Enter country location : \")\n",
    "topic = input(\"Enter news topic : \")\n",
    "\n",
    "NewsFetch(lang,location,topic)"
   ]
  },
  {
   "cell_type": "code",
   "execution_count": 6,
   "id": "floating-parker",
   "metadata": {},
   "outputs": [
    {
     "name": "stderr",
     "output_type": "stream",
     "text": [
      "[nltk_data] Downloading package punkt to\n",
      "[nltk_data]     C:\\Users\\VISHWA\\AppData\\Roaming\\nltk_data...\n",
      "[nltk_data]   Package punkt is already up-to-date!\n",
      "[nltk_data] Downloading package stopwords to\n",
      "[nltk_data]     C:\\Users\\VISHWA\\AppData\\Roaming\\nltk_data...\n",
      "[nltk_data]   Package stopwords is already up-to-date!\n",
      "[nltk_data] Downloading package averaged_perceptron_tagger to\n",
      "[nltk_data]     C:\\Users\\VISHWA\\AppData\\Roaming\\nltk_data...\n",
      "[nltk_data]   Package averaged_perceptron_tagger is already up-to-\n",
      "[nltk_data]       date!\n",
      "[nltk_data] Downloading package wordnet to\n",
      "[nltk_data]     C:\\Users\\VISHWA\\AppData\\Roaming\\nltk_data...\n",
      "[nltk_data]   Package wordnet is already up-to-date!\n"
     ]
    },
    {
     "data": {
      "text/plain": [
       "True"
      ]
     },
     "execution_count": 6,
     "metadata": {},
     "output_type": "execute_result"
    }
   ],
   "source": [
    "import nltk\n",
    "nltk.download('punkt')\n",
    "nltk.download('stopwords')\n",
    "nltk.download('averaged_perceptron_tagger')\n",
    "nltk.download('wordnet')"
   ]
  },
  {
   "cell_type": "code",
   "execution_count": null,
   "id": "italic-sessions",
   "metadata": {},
   "outputs": [],
   "source": [
    "import pandas as pd"
   ]
  },
  {
   "cell_type": "code",
   "execution_count": null,
   "id": "parliamentary-tuner",
   "metadata": {},
   "outputs": [],
   "source": [
    "df = pd.read_json ('GoogleNewsScrapper.json')\n",
    "df.to_csv ('GoogleNewsScrapper.csv')"
   ]
  },
  {
   "cell_type": "code",
   "execution_count": null,
   "id": "registered-lighter",
   "metadata": {},
   "outputs": [],
   "source": [
    "df"
   ]
  },
  {
   "cell_type": "code",
   "execution_count": null,
   "id": "pressing-cooking",
   "metadata": {},
   "outputs": [],
   "source": []
  }
 ],
 "metadata": {
  "kernelspec": {
   "display_name": "Python 3",
   "language": "python",
   "name": "python3"
  },
  "language_info": {
   "codemirror_mode": {
    "name": "ipython",
    "version": 3
   },
   "file_extension": ".py",
   "mimetype": "text/x-python",
   "name": "python",
   "nbconvert_exporter": "python",
   "pygments_lexer": "ipython3",
   "version": "3.8.6"
  }
 },
 "nbformat": 4,
 "nbformat_minor": 5
}
